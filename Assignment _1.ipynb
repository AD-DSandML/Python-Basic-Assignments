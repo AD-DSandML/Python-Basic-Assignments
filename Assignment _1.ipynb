{
 "cells": [
  {
   "cell_type": "markdown",
   "id": "light-report",
   "metadata": {},
   "source": [
    "# Q1"
   ]
  },
  {
   "cell_type": "raw",
   "id": "bright-hawaiian",
   "metadata": {},
   "source": [
    "1. In the below elements which of them are values or an expression? eg:- values can be integer or string and expressions will be mathematical operators.\n",
    "\n",
    "* \n",
    "'hello'\n",
    "-87.8\n",
    "-\n",
    "/ \n",
    "+\n",
    "6"
   ]
  },
  {
   "cell_type": "raw",
   "id": "dynamic-shark",
   "metadata": {},
   "source": [
    "Answer:\n",
    "*,-,/,+  -------------> mathematical operators\n",
    "'hello'-----> string value\n",
    "-87.8 ---------> floating value\n",
    "6 -----> integer value"
   ]
  },
  {
   "cell_type": "markdown",
   "id": "offshore-farming",
   "metadata": {},
   "source": [
    "# Q2"
   ]
  },
  {
   "cell_type": "raw",
   "id": "cubic-remains",
   "metadata": {},
   "source": [
    "2. What is the difference between string and variable?"
   ]
  },
  {
   "cell_type": "raw",
   "id": "excess-position",
   "metadata": {},
   "source": [
    "Answer:\n",
    "A variables are something where we can store values like 'string','integer','float' etc.They are atually a reserved memory location for storing values."
   ]
  },
  {
   "cell_type": "raw",
   "id": "protective-promotion",
   "metadata": {},
   "source": [
    "A string is a collection of one or more characters.It is a datatype which can be stored in variable.Strings are always enclosed with quotes (single or double).Strings are also immutable."
   ]
  },
  {
   "cell_type": "code",
   "execution_count": 1,
   "id": "ranging-colors",
   "metadata": {},
   "outputs": [],
   "source": [
    "# variable example:\n",
    "x='hello world'\n",
    "y=56.56\n",
    "z=5\n",
    "#Here x,y and z are the variables."
   ]
  },
  {
   "cell_type": "code",
   "execution_count": 5,
   "id": "connected-token",
   "metadata": {},
   "outputs": [
    {
     "name": "stdout",
     "output_type": "stream",
     "text": [
      "<class 'str'>\n",
      "<class 'str'>\n",
      "<class 'str'>\n"
     ]
    },
    {
     "ename": "TypeError",
     "evalue": "'str' object does not support item assignment",
     "output_type": "error",
     "traceback": [
      "\u001b[1;31m---------------------------------------------------------------------------\u001b[0m",
      "\u001b[1;31mTypeError\u001b[0m                                 Traceback (most recent call last)",
      "\u001b[1;32m<ipython-input-5-a71947fe19c8>\u001b[0m in \u001b[0;36m<module>\u001b[1;34m\u001b[0m\n\u001b[0;32m      7\u001b[0m \u001b[0mprint\u001b[0m\u001b[1;33m(\u001b[0m\u001b[0mtype\u001b[0m\u001b[1;33m(\u001b[0m\u001b[0mz\u001b[0m\u001b[1;33m)\u001b[0m\u001b[1;33m)\u001b[0m\u001b[1;33m\u001b[0m\u001b[1;33m\u001b[0m\u001b[0m\n\u001b[0;32m      8\u001b[0m \u001b[1;33m\u001b[0m\u001b[0m\n\u001b[1;32m----> 9\u001b[1;33m \u001b[0mx\u001b[0m\u001b[1;33m[\u001b[0m\u001b[1;36m0\u001b[0m\u001b[1;33m]\u001b[0m\u001b[1;33m=\u001b[0m\u001b[1;34m'l'\u001b[0m  \u001b[1;31m#it is showing an error as strings are immutable\u001b[0m\u001b[1;33m\u001b[0m\u001b[1;33m\u001b[0m\u001b[0m\n\u001b[0m",
      "\u001b[1;31mTypeError\u001b[0m: 'str' object does not support item assignment"
     ]
    }
   ],
   "source": [
    "# string example:\n",
    "x='my name is arup'\n",
    "y='85.5'\n",
    "z='5'\n",
    "print(type(x))\n",
    "print(type(y))\n",
    "print(type(z))\n",
    "\n",
    "x[0]='l'  #it is showing an error as strings are immutable"
   ]
  },
  {
   "cell_type": "markdown",
   "id": "black-suicide",
   "metadata": {},
   "source": [
    "# Q3"
   ]
  },
  {
   "cell_type": "raw",
   "id": "senior-broadway",
   "metadata": {},
   "source": [
    "3.Describe three different data types."
   ]
  },
  {
   "cell_type": "raw",
   "id": "compatible-stability",
   "metadata": {},
   "source": [
    "Answer:\n",
    "       Three different data types are:-\n",
    "       \n",
    "    Integers---> This value is represented by integer class.It contains positive and negetive whole numbers(without fraction or decimal).In python there is no limit to how long an integer value can be.\n",
    "    \n",
    "    Float----> This value is represented by float class.It is a real number with floting point represention.It is specified by a decimal point.\n",
    "    \n",
    "    String-----> A string is a collection of one or more characters.Strings are always enclosed with quotes (single or double).Strings are also immutable.\n",
    "    \n",
    "    All the above data types can be stored in variable."
   ]
  },
  {
   "cell_type": "code",
   "execution_count": 6,
   "id": "discrete-paradise",
   "metadata": {},
   "outputs": [
    {
     "name": "stdout",
     "output_type": "stream",
     "text": [
      "<class 'int'>\n",
      "<class 'float'>\n",
      "<class 'str'>\n"
     ]
    }
   ],
   "source": [
    "#Example:\n",
    "#Integers\n",
    "x=5\n",
    "print(type(x))\n",
    "\n",
    "#Float\n",
    "y=6.5\n",
    "print(type(y))\n",
    "\n",
    "#String\n",
    "z='Hello my name is arup'\n",
    "print(type(z))"
   ]
  },
  {
   "cell_type": "markdown",
   "id": "acoustic-peoples",
   "metadata": {},
   "source": [
    "# Q4"
   ]
  },
  {
   "cell_type": "raw",
   "id": "alive-football",
   "metadata": {},
   "source": [
    "4. What is an expression made up of? What do all expressions do?"
   ]
  },
  {
   "cell_type": "raw",
   "id": "mechanical-ozone",
   "metadata": {},
   "source": [
    "Answer:\n",
    "    Expression is a combination of values,variables,operators in python.\n",
    "    \n",
    "    All expressions do evaluation to give us a single result.\n"
   ]
  },
  {
   "cell_type": "code",
   "execution_count": 9,
   "id": "seasonal-behavior",
   "metadata": {},
   "outputs": [
    {
     "data": {
      "text/plain": [
       "7"
      ]
     },
     "execution_count": 9,
     "metadata": {},
     "output_type": "execute_result"
    }
   ],
   "source": [
    "#example:\n",
    "x=5\n",
    "x+2 #combinaton of variable x,operator '+',value=2,so it is an expression"
   ]
  },
  {
   "cell_type": "markdown",
   "id": "intense-fitness",
   "metadata": {},
   "source": [
    "# Q5"
   ]
  },
  {
   "cell_type": "raw",
   "id": "olive-cutting",
   "metadata": {},
   "source": [
    "5. This assignment statements, like spam = 10. What is the difference between an expression and a statement?"
   ]
  },
  {
   "cell_type": "raw",
   "id": "fancy-paragraph",
   "metadata": {},
   "source": [
    "Answer:\n",
    "    Statements represent some kind of  action or command e.g print statements, assignment statements.A statement never returns a value.\n",
    "    Whereas, Expression is a combination of variables, operations and values that gives a result value.All expressions do evaluation to give us a single result. \n",
    "    "
   ]
  },
  {
   "cell_type": "code",
   "execution_count": 12,
   "id": "worthy-peoples",
   "metadata": {},
   "outputs": [
    {
     "name": "stdout",
     "output_type": "stream",
     "text": [
      "Hello my name is arup \n"
     ]
    },
    {
     "data": {
      "text/plain": [
       "12"
      ]
     },
     "execution_count": 12,
     "metadata": {},
     "output_type": "execute_result"
    }
   ],
   "source": [
    "#example:\n",
    "print('Hello my name is arup ') #print statement\n",
    "\n",
    "(5+3)+(10-6) #expression\n",
    "\n"
   ]
  },
  {
   "cell_type": "markdown",
   "id": "worse-computer",
   "metadata": {},
   "source": [
    "# Q6"
   ]
  },
  {
   "cell_type": "raw",
   "id": "minor-royal",
   "metadata": {},
   "source": [
    "6. After running the following code, what does the variable bacon contain?\n",
    "bacon = 22\n",
    "bacon + 1\n"
   ]
  },
  {
   "cell_type": "code",
   "execution_count": 16,
   "id": "considerable-johnson",
   "metadata": {},
   "outputs": [
    {
     "data": {
      "text/plain": [
       "22"
      ]
     },
     "execution_count": 16,
     "metadata": {},
     "output_type": "execute_result"
    }
   ],
   "source": [
    "#Answer:\n",
    "bacon = 22\n",
    "\n",
    "bacon + 1\n",
    "\n",
    "bacon\n",
    "\n",
    "# here bacon+1 does not reassign the new value(i.e 23) to the original bacon variabe.\n",
    "#Here we need an assaignment statement i.e. bacon=bacon+1 to update it's value."
   ]
  },
  {
   "cell_type": "markdown",
   "id": "adaptive-lightning",
   "metadata": {},
   "source": [
    "# Q7"
   ]
  },
  {
   "cell_type": "raw",
   "id": "descending-election",
   "metadata": {},
   "source": [
    "7. What should the values of the following two terms be?\n",
    "'spam' + 'spamspam'\n",
    "'spam' * 3"
   ]
  },
  {
   "cell_type": "code",
   "execution_count": 21,
   "id": "organized-speech",
   "metadata": {},
   "outputs": [
    {
     "name": "stdout",
     "output_type": "stream",
     "text": [
      "spamspamspam\n",
      "spamspamspam\n"
     ]
    }
   ],
   "source": [
    "#Answer:\n",
    "print('spam' + 'spamspam')\n",
    "print('spam' * 3)\n",
    "#both expressions give the same output"
   ]
  },
  {
   "cell_type": "markdown",
   "id": "clinical-topic",
   "metadata": {},
   "source": [
    "# Q8"
   ]
  },
  {
   "cell_type": "raw",
   "id": "minimal-connecticut",
   "metadata": {},
   "source": [
    "8. Why is eggs a valid variable name while 100 is invalid?"
   ]
  },
  {
   "cell_type": "raw",
   "id": "fluid-concentration",
   "metadata": {},
   "source": [
    "#Answer:\n",
    "      \n",
    "      As eggs start with a alphabet,so it is valid.Because variable name in python can start with an alphabet.\n",
    "      But 100 is invalid because variabe names cannot start with a number in python."
   ]
  },
  {
   "cell_type": "markdown",
   "id": "immediate-constitution",
   "metadata": {},
   "source": [
    "# Q9"
   ]
  },
  {
   "cell_type": "raw",
   "id": "blank-commission",
   "metadata": {},
   "source": [
    "9. What three functions can be used to get the integer, floating-point number, or string version of a value?"
   ]
  },
  {
   "cell_type": "raw",
   "id": "alleged-shame",
   "metadata": {},
   "source": [
    "#Answer:\n",
    "       int(),float() and str() are the three functions that can be used to get the integer,floating-point number,or string version of a value respectively."
   ]
  },
  {
   "cell_type": "code",
   "execution_count": 22,
   "id": "cheap-nerve",
   "metadata": {},
   "outputs": [],
   "source": [
    "#Example\n",
    "#Integers:\n",
    "\n",
    "x = int(3)   # x will be 3\n",
    "y = int(3.8) # y will be 3\n",
    "z = int(\"5\") # z will be 5\n",
    "\n",
    "#Floats:\n",
    "\n",
    "x = float(8)     # x will be 8.0\n",
    "y = float(7.8)   # y will be 7.8\n",
    "z = float(\"5\")   # z will be 5.0\n",
    "w = float(\"9.2\") # w will be 9.2\n",
    "\n",
    "#Strings:\n",
    "\n",
    "x = str(\"s1\") # x will be 's1'\n",
    "y = str(2)    # y will be '2'\n",
    "z = str(3.0)  # z will be '3.0'\n"
   ]
  },
  {
   "cell_type": "markdown",
   "id": "dying-commons",
   "metadata": {},
   "source": [
    "# Q10"
   ]
  },
  {
   "cell_type": "raw",
   "id": "bored-steps",
   "metadata": {},
   "source": [
    "10. Why does this expression cause an error? How can you fix it?\n",
    "'I have eaten ' + 99 + ' burritos.'\n"
   ]
  },
  {
   "cell_type": "raw",
   "id": "second-ministry",
   "metadata": {},
   "source": [
    "#Answer:\n",
    "     This error happened because we can not concatenate integer  with a string.\n",
    "     \n",
    "     In order to fix this,we have to perform type casting to convert integer 99 to string 99.This is shown in below example."
   ]
  },
  {
   "cell_type": "code",
   "execution_count": 28,
   "id": "uniform-shepherd",
   "metadata": {},
   "outputs": [
    {
     "ename": "TypeError",
     "evalue": "can only concatenate str (not \"int\") to str",
     "output_type": "error",
     "traceback": [
      "\u001b[1;31m---------------------------------------------------------------------------\u001b[0m",
      "\u001b[1;31mTypeError\u001b[0m                                 Traceback (most recent call last)",
      "\u001b[1;32m<ipython-input-28-c82171a8ac14>\u001b[0m in \u001b[0;36m<module>\u001b[1;34m\u001b[0m\n\u001b[0;32m      1\u001b[0m \u001b[1;31m#example:\u001b[0m\u001b[1;33m\u001b[0m\u001b[1;33m\u001b[0m\u001b[1;33m\u001b[0m\u001b[0m\n\u001b[1;32m----> 2\u001b[1;33m \u001b[1;34m'I have eaten '\u001b[0m \u001b[1;33m+\u001b[0m \u001b[1;36m99\u001b[0m \u001b[1;33m+\u001b[0m \u001b[1;34m' burritos.'\u001b[0m    \u001b[1;31m#showing error\u001b[0m\u001b[1;33m\u001b[0m\u001b[1;33m\u001b[0m\u001b[0m\n\u001b[0m",
      "\u001b[1;31mTypeError\u001b[0m: can only concatenate str (not \"int\") to str"
     ]
    }
   ],
   "source": [
    "#example:\n",
    "'I have eaten ' + 99 + ' burritos.'    #showing error "
   ]
  },
  {
   "cell_type": "code",
   "execution_count": 27,
   "id": "warming-scanning",
   "metadata": {},
   "outputs": [
    {
     "data": {
      "text/plain": [
       "'I have eaten 99 burritos.'"
      ]
     },
     "execution_count": 27,
     "metadata": {},
     "output_type": "execute_result"
    }
   ],
   "source": [
    "'I have eaten ' + str(99) + ' burritos.'  #performed type casting-->str(99)"
   ]
  },
  {
   "cell_type": "code",
   "execution_count": null,
   "id": "creative-civilian",
   "metadata": {},
   "outputs": [],
   "source": []
  }
 ],
 "metadata": {
  "kernelspec": {
   "display_name": "Python 3",
   "language": "python",
   "name": "python3"
  },
  "language_info": {
   "codemirror_mode": {
    "name": "ipython",
    "version": 3
   },
   "file_extension": ".py",
   "mimetype": "text/x-python",
   "name": "python",
   "nbconvert_exporter": "python",
   "pygments_lexer": "ipython3",
   "version": "3.8.8"
  }
 },
 "nbformat": 4,
 "nbformat_minor": 5
}
