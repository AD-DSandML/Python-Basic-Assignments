{
 "cells": [
  {
   "cell_type": "markdown",
   "id": "oriented-episode",
   "metadata": {},
   "source": [
    "# Q1"
   ]
  },
  {
   "cell_type": "raw",
   "id": "meaning-adapter",
   "metadata": {},
   "source": [
    "1. To what does a relative path refer?"
   ]
  },
  {
   "cell_type": "raw",
   "id": "solar-bones",
   "metadata": {},
   "source": [
    "Answer:\n",
    "      A relative path refers to a location which is relative to the current diectory.\n",
    "    os.path.relpath() method is used to get a relative filepath either from the current working directory or from the the given directory."
   ]
  },
  {
   "cell_type": "code",
   "execution_count": 5,
   "id": "thick-integral",
   "metadata": {},
   "outputs": [
    {
     "name": "stdout",
     "output_type": "stream",
     "text": [
      "test.txt\n"
     ]
    }
   ],
   "source": [
    "#example:\n",
    "import os\n",
    "path='C:\\\\Users\\\\Dell\\\\Desktop\\\\iNeuron\\\\iNeuron python basic Assignments\\\\test.txt'\n",
    "relative_path = os.path.relpath(path)\n",
    "print(relative_path)"
   ]
  },
  {
   "cell_type": "markdown",
   "id": "tough-antique",
   "metadata": {},
   "source": [
    "# Q2"
   ]
  },
  {
   "cell_type": "raw",
   "id": "mediterranean-newark",
   "metadata": {},
   "source": [
    "2. What does an absolute path start with your operating system?"
   ]
  },
  {
   "cell_type": "raw",
   "id": "deluxe-daisy",
   "metadata": {},
   "source": [
    "Answer:\n",
    "    An absolute path always contains the root element and the complete list of directories to locate the specific file or folder.\n",
    "    On Windows, an absolute path starts with a drive like C:\\"
   ]
  },
  {
   "cell_type": "code",
   "execution_count": 19,
   "id": "asian-promise",
   "metadata": {},
   "outputs": [
    {
     "data": {
      "text/plain": [
       "'C:\\\\Users\\\\Dell'"
      ]
     },
     "execution_count": 19,
     "metadata": {},
     "output_type": "execute_result"
    }
   ],
   "source": [
    "#example\n",
    "os.getcwd()"
   ]
  },
  {
   "cell_type": "markdown",
   "id": "hindu-intermediate",
   "metadata": {},
   "source": [
    "# Q3"
   ]
  },
  {
   "cell_type": "raw",
   "id": "changing-calgary",
   "metadata": {},
   "source": [
    "3. What do the functions os.getcwd() and os.chdir() do?"
   ]
  },
  {
   "cell_type": "raw",
   "id": "arabic-cheat",
   "metadata": {},
   "source": [
    "Answer:\n",
    "    os.getcwd() gives us the current working directory.\n",
    "\n",
    "os.chdir() method is used to change the current working directory to the specified path."
   ]
  },
  {
   "cell_type": "code",
   "execution_count": 9,
   "id": "bulgarian-violation",
   "metadata": {},
   "outputs": [
    {
     "data": {
      "text/plain": [
       "'C:\\\\Users\\\\Dell\\\\Desktop\\\\iNeuron\\\\iNeuron python basic Assignments'"
      ]
     },
     "execution_count": 9,
     "metadata": {},
     "output_type": "execute_result"
    }
   ],
   "source": [
    "#example:\n",
    "os.getcwd()\n"
   ]
  },
  {
   "cell_type": "code",
   "execution_count": 10,
   "id": "saving-decline",
   "metadata": {},
   "outputs": [
    {
     "data": {
      "text/plain": [
       "'C:\\\\Users\\\\Dell\\\\Desktop\\\\iNeuron'"
      ]
     },
     "execution_count": 10,
     "metadata": {},
     "output_type": "execute_result"
    }
   ],
   "source": [
    "#example:\n",
    "os.chdir('C:\\\\Users\\\\Dell\\\\Desktop\\\\iNeuron')\n",
    "os.getcwd()"
   ]
  },
  {
   "cell_type": "markdown",
   "id": "mature-beauty",
   "metadata": {},
   "source": [
    "# Q4"
   ]
  },
  {
   "cell_type": "raw",
   "id": "recovered-statistics",
   "metadata": {},
   "source": [
    "4. What are the . and .. folders?"
   ]
  },
  {
   "cell_type": "raw",
   "id": "academic-animation",
   "metadata": {},
   "source": [
    "Answer:\n",
    "     The . folder refers to the current folder where as .. folder refers to the parent folder.\n",
    "    "
   ]
  },
  {
   "cell_type": "markdown",
   "id": "everyday-receipt",
   "metadata": {},
   "source": [
    "# Q5"
   ]
  },
  {
   "cell_type": "raw",
   "id": "allied-warehouse",
   "metadata": {},
   "source": [
    "5. In C:\\bacon\\eggs\\spam.txt, which part is the dir name, and which part is the base name?"
   ]
  },
  {
   "cell_type": "raw",
   "id": "extensive-feedback",
   "metadata": {},
   "source": [
    "Answer:\n",
    "    C:\\bacon\\eggs is the dir name.\n",
    "        \n",
    "    spam.txt is the base name.    \n",
    "    "
   ]
  },
  {
   "cell_type": "markdown",
   "id": "monetary-conducting",
   "metadata": {},
   "source": [
    "# Q6"
   ]
  },
  {
   "cell_type": "raw",
   "id": "passive-bearing",
   "metadata": {},
   "source": [
    "# 6. What are the three “mode” arguments that can be passed to the open() function?"
   ]
  },
  {
   "cell_type": "raw",
   "id": "trying-karen",
   "metadata": {},
   "source": [
    "Answer:\n",
    "      The three modes are 'r' for read mode,'w' for write mode and 'a' for append mode which can be passed to the open() function.\n",
    "    "
   ]
  },
  {
   "cell_type": "markdown",
   "id": "aging-majority",
   "metadata": {},
   "source": [
    "# Q7"
   ]
  },
  {
   "cell_type": "raw",
   "id": "orange-commitment",
   "metadata": {},
   "source": [
    "7. What happens if an existing file is opened in write mode?"
   ]
  },
  {
   "cell_type": "raw",
   "id": "spatial-strap",
   "metadata": {},
   "source": [
    "Answer:\n",
    "    If an existing file is opened in write mode,then all the lines which were written in that existing file will be erased and completely overwritten those new lines which are written in write mode."
   ]
  },
  {
   "cell_type": "markdown",
   "id": "civilian-reward",
   "metadata": {},
   "source": [
    "# Q8"
   ]
  },
  {
   "cell_type": "raw",
   "id": "pacific-characteristic",
   "metadata": {},
   "source": [
    "8. How do you tell the difference between read() and readlines()?"
   ]
  },
  {
   "cell_type": "raw",
   "id": "deluxe-narrow",
   "metadata": {},
   "source": [
    "Answer:\n",
    "    The read method returns the entire content of the file as single string value.\n",
    "    \n",
    "    Whereas the readlines() method returns the entire content of the file as a list of strings where each string is a line from the file's content. "
   ]
  },
  {
   "cell_type": "code",
   "execution_count": 16,
   "id": "helpful-parker",
   "metadata": {},
   "outputs": [
    {
     "data": {
      "text/plain": [
       "'2021-04-04 16:04:01,272 this is msg for error\\n2021-04-04 16:08:29,251 this is msg for error\\n2021-04-04 16:10:15,358 this is msg for error\\n2021-04-04 16:10:44,494 this is msg for error\\n2021-04-04 16:13:47,642 this is msg for error\\n'"
      ]
     },
     "execution_count": 16,
     "metadata": {},
     "output_type": "execute_result"
    }
   ],
   "source": [
    "#example:\n",
    "f=open('C://Users//Dell//Desktop//iNeuron/test.log')\n",
    "f.read()"
   ]
  },
  {
   "cell_type": "code",
   "execution_count": 17,
   "id": "elect-angola",
   "metadata": {},
   "outputs": [
    {
     "data": {
      "text/plain": [
       "['2021-04-04 16:04:01,272 this is msg for error\\n',\n",
       " '2021-04-04 16:08:29,251 this is msg for error\\n',\n",
       " '2021-04-04 16:10:15,358 this is msg for error\\n',\n",
       " '2021-04-04 16:10:44,494 this is msg for error\\n',\n",
       " '2021-04-04 16:13:47,642 this is msg for error\\n']"
      ]
     },
     "execution_count": 17,
     "metadata": {},
     "output_type": "execute_result"
    }
   ],
   "source": [
    "#example:\n",
    "f.seek(0)\n",
    "f.readlines()"
   ]
  },
  {
   "cell_type": "markdown",
   "id": "fallen-ready",
   "metadata": {},
   "source": [
    "# Q9"
   ]
  },
  {
   "cell_type": "raw",
   "id": "saved-atmosphere",
   "metadata": {},
   "source": [
    "9. What data structure does a shelf value resemble?"
   ]
  },
  {
   "cell_type": "raw",
   "id": "interesting-dynamics",
   "metadata": {},
   "source": [
    "Answer:\n",
    "    A shelf value resemble dictionary data structure.\n",
    "    \n",
    "    It has key and value pair similar to the dictionary.Also keys() and values() methods that work similarly to the dictionary methods."
   ]
  },
  {
   "cell_type": "code",
   "execution_count": null,
   "id": "extensive-cardiff",
   "metadata": {},
   "outputs": [],
   "source": []
  }
 ],
 "metadata": {
  "kernelspec": {
   "display_name": "Python 3",
   "language": "python",
   "name": "python3"
  },
  "language_info": {
   "codemirror_mode": {
    "name": "ipython",
    "version": 3
   },
   "file_extension": ".py",
   "mimetype": "text/x-python",
   "name": "python",
   "nbconvert_exporter": "python",
   "pygments_lexer": "ipython3",
   "version": "3.8.8"
  }
 },
 "nbformat": 4,
 "nbformat_minor": 5
}
