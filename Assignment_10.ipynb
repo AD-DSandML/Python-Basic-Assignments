{
 "cells": [
  {
   "cell_type": "markdown",
   "id": "figured-juvenile",
   "metadata": {},
   "source": [
    "# Q1"
   ]
  },
  {
   "cell_type": "raw",
   "id": "current-salon",
   "metadata": {},
   "source": [
    "1. How do you distinguish between shutil.copy() and shutil.copytree()?"
   ]
  },
  {
   "cell_type": "raw",
   "id": "multiple-district",
   "metadata": {},
   "source": [
    "Answer:\n",
    "    shutil(or shell utilities) module has function to let us copy,move,rename and delete files in our python programs.To use the shutil functions,we will first need to use import shutil.\n",
    "    \n",
    "    Applying shutil.copy(source,destination) will copy the file from the path source to the folder at the path destination.\n",
    "    While shutil.copytree() will copy an entire folder and every folder and file content in it from path source to the path destination."
   ]
  },
  {
   "cell_type": "code",
   "execution_count": 3,
   "id": "pressing-peripheral",
   "metadata": {},
   "outputs": [
    {
     "data": {
      "text/plain": [
       "'C://Users//Dell//Desktop\\\\test.txt'"
      ]
     },
     "execution_count": 3,
     "metadata": {},
     "output_type": "execute_result"
    }
   ],
   "source": [
    "#example:\n",
    "import os\n",
    "import shutil\n",
    "# shutil.copy() copies the file at 'C://Users//Dell//Desktop//iNeuron/test.txt' to the destination 'C://Users//Dell//Desktop' \n",
    "shutil.copy('C://Users//Dell//Desktop//iNeuron/test.txt','C://Users//Dell//Desktop')"
   ]
  },
  {
   "cell_type": "code",
   "execution_count": 4,
   "id": "descending-train",
   "metadata": {},
   "outputs": [
    {
     "data": {
      "text/plain": [
       "'C://Users//Dell//Desktop//test_copy'"
      ]
     },
     "execution_count": 4,
     "metadata": {},
     "output_type": "execute_result"
    }
   ],
   "source": [
    "#example:\n",
    "#shutil.copytree creates a new folder named test_copy with the same content as the original test folder.\n",
    "shutil.copytree('C://Users//Dell//Desktop//iNeuron//test','C://Users//Dell//Desktop//test_copy')"
   ]
  },
  {
   "cell_type": "markdown",
   "id": "bizarre-worthy",
   "metadata": {},
   "source": [
    "# Q2"
   ]
  },
  {
   "cell_type": "raw",
   "id": "lined-learning",
   "metadata": {},
   "source": [
    "2. What function is used to rename files?"
   ]
  },
  {
   "cell_type": "raw",
   "id": "cognitive-garage",
   "metadata": {},
   "source": [
    "Answer:\n",
    "    The shutil.move() function is used for renaming files,as well as moving them from source path to given destination path."
   ]
  },
  {
   "cell_type": "markdown",
   "id": "sacred-seminar",
   "metadata": {},
   "source": [
    "# Q3"
   ]
  },
  {
   "cell_type": "raw",
   "id": "differential-stations",
   "metadata": {},
   "source": [
    "3. What is the difference between the delete functions in the send2trash and shutil modules?"
   ]
  },
  {
   "cell_type": "raw",
   "id": "chemical-forest",
   "metadata": {},
   "source": [
    "Answer:\n",
    "    Using send2trash, we can send files to the Trash or Recycle Bin instead of permanently deleting them while shutil functions will permanently delete files and folders."
   ]
  },
  {
   "cell_type": "markdown",
   "id": "accessible-award",
   "metadata": {},
   "source": [
    "# Q4"
   ]
  },
  {
   "cell_type": "raw",
   "id": "moderate-auditor",
   "metadata": {},
   "source": [
    "4.ZipFile objects have a close() method just like File objects’ close() method. What ZipFile method is equivalent to File objects’ open() method?"
   ]
  },
  {
   "cell_type": "raw",
   "id": "registered-being",
   "metadata": {},
   "source": [
    "Answer:\n",
    "    zip file is a single file containing one or more compressed files,so it converts large files smaller and keep related files together.\n",
    "    To work on zip files using python,we will use an inbuilt python module called zipfile.\n",
    "    The zipfile.ZipFile() function is equivalent to the open() function with two arguments inside it.The first argument is the filename and the second argumnet is the mode(read, write or append) to open that ZIP file."
   ]
  },
  {
   "cell_type": "markdown",
   "id": "painted-jesus",
   "metadata": {},
   "source": [
    "# Q5"
   ]
  },
  {
   "cell_type": "raw",
   "id": "horizontal-march",
   "metadata": {},
   "source": [
    "5. Create a programme that searches a folder tree for files with a certain file extension (such as .pdf or .jpg). Copy these files from whatever location they are in to a new folder."
   ]
  },
  {
   "cell_type": "code",
   "execution_count": 1,
   "id": "arctic-channels",
   "metadata": {},
   "outputs": [],
   "source": [
    "#Answer:\n",
    "import os, shutil\n",
    "\n",
    "def automate_copy(folder,extensions,dest_folder):\n",
    "    folder=os.path.abspath(folder)\n",
    "    dest_folder=os.path.abspath(dest_folder)\n",
    "    \n",
    "    for folder_name,sub_folders,filenames in os.walk(folder):\n",
    "        for filename in filenames:\n",
    "            name,extension=os.path.splitext(filename)\n",
    "            if extension in extensions:\n",
    "                file_abs_path=folder_name+os.path.sep+filename\n",
    "                print('Copying',file_abs_path,'to',dest_folder)\n",
    "                shutil.copy(file_abs_path,dest_folder)\n",
    "   "
   ]
  },
  {
   "cell_type": "code",
   "execution_count": 28,
   "id": "defensive-freedom",
   "metadata": {},
   "outputs": [
    {
     "name": "stdout",
     "output_type": "stream",
     "text": [
      "Copying C:\\Users\\Dell\\Desktop\\iNeuron\\addition.py to C:\\Users\\Dell\\Desktop\\test_folder_1\n",
      "Copying C:\\Users\\Dell\\Desktop\\iNeuron\\New Text Document.txt to C:\\Users\\Dell\\Desktop\\test_folder_1\n",
      "Copying C:\\Users\\Dell\\Desktop\\iNeuron\\test.txt to C:\\Users\\Dell\\Desktop\\test_folder_1\n",
      "Copying C:\\Users\\Dell\\Desktop\\iNeuron\\test0.txt to C:\\Users\\Dell\\Desktop\\test_folder_1\n",
      "Copying C:\\Users\\Dell\\Desktop\\iNeuron\\test1.py.txt to C:\\Users\\Dell\\Desktop\\test_folder_1\n",
      "Copying C:\\Users\\Dell\\Desktop\\iNeuron\\test1.txt to C:\\Users\\Dell\\Desktop\\test_folder_1\n",
      "Copying C:\\Users\\Dell\\Desktop\\iNeuron\\test2.txt to C:\\Users\\Dell\\Desktop\\test_folder_1\n",
      "Copying C:\\Users\\Dell\\Desktop\\iNeuron\\test3.txt to C:\\Users\\Dell\\Desktop\\test_folder_1\n",
      "Copying C:\\Users\\Dell\\Desktop\\iNeuron\\test4.txt to C:\\Users\\Dell\\Desktop\\test_folder_1\n",
      "Copying C:\\Users\\Dell\\Desktop\\iNeuron\\test5.txt to C:\\Users\\Dell\\Desktop\\test_folder_1\n",
      "Copying C:\\Users\\Dell\\Desktop\\iNeuron\\test6.py to C:\\Users\\Dell\\Desktop\\test_folder_1\n",
      "Copying C:\\Users\\Dell\\Desktop\\iNeuron\\test6.txt to C:\\Users\\Dell\\Desktop\\test_folder_1\n",
      "Copying C:\\Users\\Dell\\Desktop\\iNeuron\\test7.txt to C:\\Users\\Dell\\Desktop\\test_folder_1\n",
      "Copying C:\\Users\\Dell\\Desktop\\iNeuron\\test8.txt to C:\\Users\\Dell\\Desktop\\test_folder_1\n",
      "Copying C:\\Users\\Dell\\Desktop\\iNeuron\\test9.txt to C:\\Users\\Dell\\Desktop\\test_folder_1\n",
      "Copying C:\\Users\\Dell\\Desktop\\iNeuron\\new_dir\\new_file.txt to C:\\Users\\Dell\\Desktop\\test_folder_1\n",
      "Copying C:\\Users\\Dell\\Desktop\\iNeuron\\practice oops\\abc.txt to C:\\Users\\Dell\\Desktop\\test_folder_1\n",
      "Copying C:\\Users\\Dell\\Desktop\\iNeuron\\practice oops\\aruptest.txt to C:\\Users\\Dell\\Desktop\\test_folder_1\n",
      "Copying C:\\Users\\Dell\\Desktop\\iNeuron\\practice oops\\test.txt to C:\\Users\\Dell\\Desktop\\test_folder_1\n",
      "Copying C:\\Users\\Dell\\Desktop\\iNeuron\\practice oops\\testfile.txt to C:\\Users\\Dell\\Desktop\\test_folder_1\n",
      "Copying C:\\Users\\Dell\\Desktop\\iNeuron\\test\\test1\\mod1.py to C:\\Users\\Dell\\Desktop\\test_folder_1\n",
      "Copying C:\\Users\\Dell\\Desktop\\iNeuron\\test\\test1\\mod2.py to C:\\Users\\Dell\\Desktop\\test_folder_1\n",
      "Copying C:\\Users\\Dell\\Desktop\\iNeuron\\test\\test1\\mod3.py to C:\\Users\\Dell\\Desktop\\test_folder_1\n",
      "Copying C:\\Users\\Dell\\Desktop\\iNeuron\\test folder\\mo1.py to C:\\Users\\Dell\\Desktop\\test_folder_1\n"
     ]
    }
   ],
   "source": [
    "#example\n",
    "folder='iNeuron'\n",
    "extensions=['.txt','.py']\n",
    "dest_folder='test_folder_1'\n",
    "automate_copy(folder,extensions,dest_folder)"
   ]
  },
  {
   "cell_type": "code",
   "execution_count": 2,
   "id": "known-edward",
   "metadata": {},
   "outputs": [],
   "source": [
    "os.chdir(os.getcwd())"
   ]
  },
  {
   "cell_type": "code",
   "execution_count": 3,
   "id": "academic-grocery",
   "metadata": {},
   "outputs": [
    {
     "data": {
      "text/plain": [
       "'C:\\\\Users\\\\Dell\\\\Desktop\\\\iNeuron\\\\iNeuron python basic Assignments'"
      ]
     },
     "execution_count": 3,
     "metadata": {},
     "output_type": "execute_result"
    }
   ],
   "source": [
    "os.getcwd()"
   ]
  },
  {
   "cell_type": "code",
   "execution_count": null,
   "id": "motivated-taste",
   "metadata": {},
   "outputs": [],
   "source": []
  }
 ],
 "metadata": {
  "kernelspec": {
   "display_name": "Python 3",
   "language": "python",
   "name": "python3"
  },
  "language_info": {
   "codemirror_mode": {
    "name": "ipython",
    "version": 3
   },
   "file_extension": ".py",
   "mimetype": "text/x-python",
   "name": "python",
   "nbconvert_exporter": "python",
   "pygments_lexer": "ipython3",
   "version": "3.8.8"
  }
 },
 "nbformat": 4,
 "nbformat_minor": 5
}
