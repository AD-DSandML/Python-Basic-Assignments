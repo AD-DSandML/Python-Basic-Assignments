{
 "cells": [
  {
   "cell_type": "markdown",
   "id": "royal-treasure",
   "metadata": {},
   "source": [
    "## Q1"
   ]
  },
  {
   "cell_type": "raw",
   "id": "spectacular-mobility",
   "metadata": {},
   "source": [
    "1.What are the two values of the Boolean data type? How do you write them?"
   ]
  },
  {
   "cell_type": "raw",
   "id": "patent-duration",
   "metadata": {},
   "source": [
    "# Answer:\n",
    "    There are two values of the Boolean data type True and False and they are written as below,\n",
    "    1. True\n",
    "    2. False (#First letter is always in upper case in boolean data type)"
   ]
  },
  {
   "cell_type": "code",
   "execution_count": 5,
   "id": "yellow-aspect",
   "metadata": {},
   "outputs": [
    {
     "name": "stdout",
     "output_type": "stream",
     "text": [
      "True\n",
      "False\n"
     ]
    }
   ],
   "source": [
    "#Example:\n",
    "print(5==10/2) #it gives boolean value True\n",
    "\n",
    "print(5==10/3) #it gives boolean value False"
   ]
  },
  {
   "cell_type": "code",
   "execution_count": 7,
   "id": "joint-adventure",
   "metadata": {},
   "outputs": [
    {
     "name": "stdout",
     "output_type": "stream",
     "text": [
      "<class 'bool'>\n",
      "<class 'bool'>\n"
     ]
    }
   ],
   "source": [
    "print(type(5==10/2))\n",
    "print(type(5==10/3))  #both give data type bool"
   ]
  },
  {
   "cell_type": "markdown",
   "id": "straight-distributor",
   "metadata": {},
   "source": [
    "## Q2"
   ]
  },
  {
   "cell_type": "raw",
   "id": "roman-toilet",
   "metadata": {},
   "source": [
    "2. What are the three different types of Boolean operators?"
   ]
  },
  {
   "cell_type": "raw",
   "id": "private-longitude",
   "metadata": {},
   "source": [
    "Answer:\n",
    "    Three different types of boolean operators are,\n",
    "    1. and\n",
    "    2. or\n",
    "    3. not\n",
    "    \n",
    "and ---------->\tReturns True if both statements are true      \n",
    "                \t\n",
    "or\t----------> Returns True if one of the statements is true\t                   \n",
    "                \n",
    "not ---------->\tReverse the result, returns False if the result is true\t        \n",
    "                "
   ]
  },
  {
   "cell_type": "code",
   "execution_count": 10,
   "id": "stylish-tribe",
   "metadata": {},
   "outputs": [
    {
     "data": {
      "text/plain": [
       "True"
      ]
     },
     "execution_count": 10,
     "metadata": {},
     "output_type": "execute_result"
    }
   ],
   "source": [
    "#example of and:\n",
    "x=3\n",
    "y=8\n",
    "x < 5 and  y < 10"
   ]
  },
  {
   "cell_type": "code",
   "execution_count": 11,
   "id": "turned-admission",
   "metadata": {},
   "outputs": [
    {
     "data": {
      "text/plain": [
       "True"
      ]
     },
     "execution_count": 11,
     "metadata": {},
     "output_type": "execute_result"
    }
   ],
   "source": [
    "#example of or:\n",
    "x=3\n",
    "y=8\n",
    "x < 5 or y > 10"
   ]
  },
  {
   "cell_type": "code",
   "execution_count": 12,
   "id": "graduate-officer",
   "metadata": {},
   "outputs": [
    {
     "data": {
      "text/plain": [
       "False"
      ]
     },
     "execution_count": 12,
     "metadata": {},
     "output_type": "execute_result"
    }
   ],
   "source": [
    "#example of not:\n",
    "x=3\n",
    "y=8\n",
    "not(x < 5 and  y < 10)  #it reverse the boolean result"
   ]
  },
  {
   "cell_type": "markdown",
   "id": "grand-screw",
   "metadata": {},
   "source": [
    "# Q3"
   ]
  },
  {
   "cell_type": "raw",
   "id": "israeli-electric",
   "metadata": {},
   "source": [
    "3. Make a list of each Boolean operator's truth tables (i.e. every possible combination of Boolean values for the operator and what it evaluate )."
   ]
  },
  {
   "cell_type": "raw",
   "id": "pressing-dodge",
   "metadata": {},
   "source": [
    "Ans-- list of boolean operators truth table can be shown as follows:\n",
    "\n",
    "say there are two types conditions x and y.\n",
    "\n",
    "Every possible combination of Boolean value and is:\n",
    "    \n",
    "    condition x = True and condition y = True ---> returns True\n",
    "    condition x = True and condition y = False ---> returns False\n",
    "    condition x = False and condition y = True ---> returns False\n",
    "    condition x = False and condition y = False ---> returns False\n",
    "    \n",
    "Every possible combination of Boolean value or is:\n",
    "    \n",
    "    condition x = True or condition y = True ---> returns True\n",
    "    condition x = True or condition y = False ---> returns True\n",
    "    condition x = False or condition y = True ---> returns True\n",
    "    condition x = False or condition y = False ---> returns False\n",
    "    \n",
    "Every possible combination of Boolean value not is:\n",
    "    \n",
    "    not (condition x = True)---> False\n",
    "    not (condition x= False)---> True"
   ]
  },
  {
   "cell_type": "code",
   "execution_count": 14,
   "id": "foster-stations",
   "metadata": {},
   "outputs": [
    {
     "name": "stdout",
     "output_type": "stream",
     "text": [
      "True\n",
      "False\n",
      "False\n"
     ]
    }
   ],
   "source": [
    "#example:\n",
    "# all possible combinations for the boolean operator 'and'\n",
    "\n",
    "print((3>1) and (5>4))     #True and True gives result True\n",
    "\n",
    "print((10>8) and (10>20))  #True and False gives result False\n",
    "\n",
    "print((15<10) and (20>10)) #False and True gives result False\n",
    "\n",
    "print((20>30) and (20<10)) # False and False gives result False\n"
   ]
  },
  {
   "cell_type": "code",
   "execution_count": 15,
   "id": "spectacular-stanford",
   "metadata": {},
   "outputs": [
    {
     "name": "stdout",
     "output_type": "stream",
     "text": [
      "True\n",
      "True\n",
      "True\n",
      "False\n"
     ]
    }
   ],
   "source": [
    "#example:\n",
    "# all possible combinations for the boolean operator 'or'\n",
    "\n",
    "print((3>1) or (5>4))     #True or True gives result True\n",
    "\n",
    "print((10>8) or (10>20))  #True or False gives result True\n",
    "\n",
    "print((15<10) or (20>10)) #False or True gives result True\n",
    "\n",
    "print((20>30) or (20<10)) # False or False gives result False\n",
    "\n"
   ]
  },
  {
   "cell_type": "code",
   "execution_count": 16,
   "id": "prepared-action",
   "metadata": {},
   "outputs": [
    {
     "name": "stdout",
     "output_type": "stream",
     "text": [
      "True\n",
      "False\n"
     ]
    }
   ],
   "source": [
    "#example:\n",
    "# all possible combinations for the boolean operator 'not'\n",
    "\n",
    "print(not(100>200)) # not reverse the result which is False\n",
    "\n",
    "print(not(100>50))  # not reverse the result which is True"
   ]
  },
  {
   "cell_type": "markdown",
   "id": "portable-assignment",
   "metadata": {},
   "source": [
    "# Q4"
   ]
  },
  {
   "cell_type": "raw",
   "id": "composite-vessel",
   "metadata": {},
   "source": [
    "4. What are the values of the following expressions?\n",
    "(5 > 4) and (3 == 5)\n",
    "not (5 > 4)\n",
    "(5 > 4) or (3 == 5)\n",
    "not ((5 > 4) or (3 == 5))\n",
    "(True and True) and (True == False)\n",
    "(not False) or (not True)\n"
   ]
  },
  {
   "cell_type": "code",
   "execution_count": 20,
   "id": "moral-closure",
   "metadata": {},
   "outputs": [
    {
     "name": "stdout",
     "output_type": "stream",
     "text": [
      "False\n",
      "False\n",
      "True\n",
      "False\n",
      "False\n",
      "True\n"
     ]
    }
   ],
   "source": [
    "#Answer:\n",
    "\n",
    "print((5 > 4) and (3 == 5))  # it gives False\n",
    "\n",
    "print(not (5 > 4))  # it gives False\n",
    "      \n",
    "print((5 > 4) or (3 == 5))  #it gives True\n",
    "      \n",
    "print(not ((5 > 4) or (3 == 5))) #it gives False\n",
    "      \n",
    "print((True and True) and (True == False)) #it gives False  \n",
    "      \n",
    "print((not False) or (not True)) #it gives True     \n",
    "    "
   ]
  },
  {
   "cell_type": "markdown",
   "id": "suited-increase",
   "metadata": {},
   "source": [
    "# Q5"
   ]
  },
  {
   "cell_type": "raw",
   "id": "geographic-semiconductor",
   "metadata": {},
   "source": [
    "5. What are the six comparison operators?"
   ]
  },
  {
   "cell_type": "raw",
   "id": "protective-constant",
   "metadata": {},
   "source": [
    "Answer:\n",
    "    Comparison operators are used to compare two values.There are six comparison operators.\n",
    "\n",
    "\n",
    "Operator\tName\t                   Example\t\n",
    "==\t        Equal\t                    x == y\t\n",
    "!=\t        Not equal\t                x != y\t\n",
    ">\t        Greater than                x > y\t\n",
    "<\t        Less than\t                x < y\t\n",
    ">=\t        Greater than or equal to\tx >= y\t\n",
    "<=\t        Less than or equal to\t    x <= y\n",
    "    \n",
    "    "
   ]
  },
  {
   "cell_type": "markdown",
   "id": "historical-dynamics",
   "metadata": {},
   "source": [
    "# Q6"
   ]
  },
  {
   "cell_type": "raw",
   "id": "indirect-alabama",
   "metadata": {},
   "source": [
    "6. How do you tell the difference between the equal to and assignment operators?Describe a condition and when you would use one."
   ]
  },
  {
   "cell_type": "raw",
   "id": "recovered-identity",
   "metadata": {},
   "source": [
    "Answer:\n",
    "    assignment operator is used to assign any value to a variable and it is symbolised by '='.\n",
    "    \n",
    "    whereas,equal to operator checks whether the two given operands are equal or not,and according to it,it returns True or False value.It is denoted by '=='.\n",
    "    assignment operator and equal to operator are explained in the below examples.\n",
    "    \n",
    "    "
   ]
  },
  {
   "cell_type": "code",
   "execution_count": 3,
   "id": "refined-music",
   "metadata": {},
   "outputs": [
    {
     "name": "stdout",
     "output_type": "stream",
     "text": [
      "10\n",
      "20\n"
     ]
    }
   ],
   "source": [
    "#example:\n",
    "a = 10\n",
    "b = 20\n",
    "print(a)\n",
    "print(b)  # here the values are assigned to variable a and b\n",
    "\n",
    "    "
   ]
  },
  {
   "cell_type": "code",
   "execution_count": 4,
   "id": "corrected-session",
   "metadata": {},
   "outputs": [
    {
     "name": "stdout",
     "output_type": "stream",
     "text": [
      "True\n",
      "False\n"
     ]
    }
   ],
   "source": [
    "print(5==5) # as the two values are equal it returns True\n",
    "print(2==5) # here the two values are no equal , so it returs False"
   ]
  },
  {
   "cell_type": "markdown",
   "id": "further-adaptation",
   "metadata": {},
   "source": [
    "# Q7"
   ]
  },
  {
   "cell_type": "raw",
   "id": "german-franchise",
   "metadata": {},
   "source": [
    "7. Identify the three blocks in this code:\n",
    "spam = 0\n",
    "if spam == 10:\n",
    "print('eggs')\n",
    "if spam > 5:\n",
    "print('bacon')\n",
    "else:\n",
    "print('ham')\n",
    "print('spam')\n",
    "print('spam')\n"
   ]
  },
  {
   "cell_type": "code",
   "execution_count": 7,
   "id": "legislative-might",
   "metadata": {},
   "outputs": [
    {
     "name": "stdout",
     "output_type": "stream",
     "text": [
      "ham\n",
      "spam\n",
      "spam\n"
     ]
    }
   ],
   "source": [
    "spam = 0\n",
    "if spam == 10:\n",
    "    print('eggs')\n",
    "if spam > 5:\n",
    "    print('bacon')\n",
    "else:\n",
    "    print('ham')\n",
    "print('spam')\n",
    "print('spam')\n",
    "\n"
   ]
  },
  {
   "cell_type": "raw",
   "id": "boxed-woman",
   "metadata": {},
   "source": [
    "Python use indentation to identify each block of code.\n",
    "so according to the above code,\n",
    "print('eggs'), print('bacon') and print('ham') are the three blocks of code ,as they are inside the if statement and else statement."
   ]
  },
  {
   "cell_type": "markdown",
   "id": "defensive-tomato",
   "metadata": {},
   "source": [
    "# Q8"
   ]
  },
  {
   "cell_type": "raw",
   "id": "romantic-spouse",
   "metadata": {},
   "source": [
    "8. Write code that prints Hello if 1 is stored in spam, prints Howdy if 2 is stored in spam, and prints Greetings! if anything else is stored in spam."
   ]
  },
  {
   "cell_type": "raw",
   "id": "coordinate-lawsuit",
   "metadata": {},
   "source": [
    "#Answer:\n",
    "if spam == 1:\n",
    "    print('hello')\n",
    "    \n",
    "elif spam == 2:\n",
    "    print('Howdy')\n",
    "    \n",
    "else:\n",
    "    print('Greetings!')"
   ]
  },
  {
   "cell_type": "markdown",
   "id": "photographic-majority",
   "metadata": {},
   "source": [
    "# Q9"
   ]
  },
  {
   "cell_type": "raw",
   "id": "smart-queensland",
   "metadata": {},
   "source": [
    "9.If your programme is stuck in an endless loop, what keys you’ll press?"
   ]
  },
  {
   "cell_type": "raw",
   "id": "respiratory-wallace",
   "metadata": {},
   "source": [
    "Answer:\n",
    "    Press CTRL+C to stop a program stuck in an endless loop.\n",
    "    "
   ]
  },
  {
   "cell_type": "markdown",
   "id": "approved-independence",
   "metadata": {},
   "source": [
    "# Q10"
   ]
  },
  {
   "cell_type": "raw",
   "id": "aging-development",
   "metadata": {},
   "source": [
    "10. How can you tell the difference between break and continue?"
   ]
  },
  {
   "cell_type": "raw",
   "id": "contained-running",
   "metadata": {},
   "source": [
    "Answer:\n",
    "    The break statement will stop the loop and will move the execution outside and just after a loop.\n",
    "   \n",
    "   With the continue statement we can stop the current iteration and it will move the execution to the start of the loop,and continue with the next iteration.  "
   ]
  },
  {
   "cell_type": "code",
   "execution_count": 9,
   "id": "lovely-biography",
   "metadata": {},
   "outputs": [
    {
     "name": "stdout",
     "output_type": "stream",
     "text": [
      "1\n",
      "2\n",
      "3\n",
      "4\n"
     ]
    }
   ],
   "source": [
    "#Example:\n",
    "i = 1\n",
    "while i < 7:\n",
    "  print(i)\n",
    "  if i == 4:\n",
    "    break\n",
    "  i += 1 #here when i==4, the break statement breaks the entire loop."
   ]
  },
  {
   "cell_type": "code",
   "execution_count": 12,
   "id": "scheduled-sentence",
   "metadata": {},
   "outputs": [
    {
     "name": "stdout",
     "output_type": "stream",
     "text": [
      "1\n",
      "3\n",
      "4\n",
      "5\n"
     ]
    }
   ],
   "source": [
    "#Example:\n",
    "i = 0\n",
    "while i < 5:\n",
    "  i += 1\n",
    "  if i == 2:\n",
    "    continue\n",
    "  print(i) # here when i == 2,the continue statement stops the current iteration and move to the start of the loop \n",
    "           #and continue with the next iteration."
   ]
  },
  {
   "cell_type": "markdown",
   "id": "guided-browse",
   "metadata": {},
   "source": [
    "# Q11"
   ]
  },
  {
   "cell_type": "raw",
   "id": "exact-trinity",
   "metadata": {},
   "source": [
    "11. In a for loop, what is the difference between range(10), range(0, 10), and range(0, 10, 1)?"
   ]
  },
  {
   "cell_type": "raw",
   "id": "ideal-crowd",
   "metadata": {},
   "source": [
    "Answer:\n",
    "    They all basically give the same result.\n",
    "    \n",
    "    range(10) call ranges from 0 to 10(but no including),here the default starting point is 0 and it goes with a step size of 1 by default.\n",
    "    \n",
    "    In ranage(0,10),here it is explicitly mentioned that the staring point is 0 and by default it also goes with a step size of 1.\n",
    "    \n",
    "    In range (0,10,1), here starting point as well as step size is explicitly mentioned.\n",
    "    \n",
    "    So,they all give the same result.The examples are shown below."
   ]
  },
  {
   "cell_type": "code",
   "execution_count": 15,
   "id": "billion-surgeon",
   "metadata": {},
   "outputs": [
    {
     "name": "stdout",
     "output_type": "stream",
     "text": [
      "[0, 1, 2, 3, 4, 5, 6, 7, 8, 9]\n",
      "[0, 1, 2, 3, 4, 5, 6, 7, 8, 9]\n",
      "[0, 1, 2, 3, 4, 5, 6, 7, 8, 9]\n"
     ]
    }
   ],
   "source": [
    "print(list(range(10)))\n",
    "\n",
    "print(list(range(0,10)))\n",
    "\n",
    "print(list(range(0,10,1)))"
   ]
  },
  {
   "cell_type": "markdown",
   "id": "muslim-adult",
   "metadata": {},
   "source": [
    "# Q12"
   ]
  },
  {
   "cell_type": "raw",
   "id": "handy-research",
   "metadata": {},
   "source": [
    "12. Write a short program that prints the numbers 1 to 10 using a for loop. Then write an equivalent program that prints the numbers 1 to 10 using a while loop."
   ]
  },
  {
   "cell_type": "code",
   "execution_count": 18,
   "id": "informative-poverty",
   "metadata": {},
   "outputs": [
    {
     "name": "stdout",
     "output_type": "stream",
     "text": [
      "1\n",
      "2\n",
      "3\n",
      "4\n",
      "5\n",
      "6\n",
      "7\n",
      "8\n",
      "9\n",
      "10\n"
     ]
    }
   ],
   "source": [
    "#Answer:\n",
    "#for loop:\n",
    "for i in range(1,11):\n",
    "    print (i)"
   ]
  },
  {
   "cell_type": "code",
   "execution_count": 19,
   "id": "introductory-steering",
   "metadata": {},
   "outputs": [
    {
     "name": "stdout",
     "output_type": "stream",
     "text": [
      "1\n",
      "2\n",
      "3\n",
      "4\n",
      "5\n",
      "6\n",
      "7\n",
      "8\n",
      "9\n",
      "10\n"
     ]
    }
   ],
   "source": [
    "#Answer:\n",
    "#while loop:\n",
    "i=1\n",
    "while i<11:\n",
    "    print (i)\n",
    "    \n",
    "    i += 1"
   ]
  },
  {
   "cell_type": "markdown",
   "id": "lasting-committee",
   "metadata": {},
   "source": [
    "# Q13"
   ]
  },
  {
   "cell_type": "raw",
   "id": "quantitative-activity",
   "metadata": {},
   "source": [
    "13. If you had a function named bacon() inside a module named spam, how would you call it after importing spam?"
   ]
  },
  {
   "cell_type": "raw",
   "id": "surprised-pursuit",
   "metadata": {},
   "source": [
    "#Answer:\n",
    "     After importing from module ,a function can be called as,\n",
    "     module.function_name()\n",
    "     \n",
    "     Here the function bacon() inside a module named spam can be called as,\n",
    "     spam.bacon()\n"
   ]
  },
  {
   "cell_type": "code",
   "execution_count": null,
   "id": "excess-america",
   "metadata": {},
   "outputs": [],
   "source": []
  }
 ],
 "metadata": {
  "kernelspec": {
   "display_name": "Python 3",
   "language": "python",
   "name": "python3"
  },
  "language_info": {
   "codemirror_mode": {
    "name": "ipython",
    "version": 3
   },
   "file_extension": ".py",
   "mimetype": "text/x-python",
   "name": "python",
   "nbconvert_exporter": "python",
   "pygments_lexer": "ipython3",
   "version": "3.8.8"
  }
 },
 "nbformat": 4,
 "nbformat_minor": 5
}
